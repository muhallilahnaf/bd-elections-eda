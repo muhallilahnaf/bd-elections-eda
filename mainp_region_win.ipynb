{
 "cells": [
  {
   "cell_type": "code",
   "execution_count": 1,
   "id": "fb669221",
   "metadata": {},
   "outputs": [],
   "source": [
    "import matplotlib.pyplot as plt\n",
    "import seaborn as sns\n",
    "sns.set_theme()\n",
    "import pandas as pd\n",
    "import geopandas as gpd\n",
    "import numpy as np"
   ]
  },
  {
   "cell_type": "code",
   "execution_count": 2,
   "id": "900b9f17",
   "metadata": {},
   "outputs": [],
   "source": [
    "bigp = ['AL', 'BNP', 'Jamaat', 'JaPa']\n",
    "mainp = ['AL', 'BNP']\n",
    "years = [1991, 1996, 2001, 2008]"
   ]
  },
  {
   "cell_type": "code",
   "execution_count": 3,
   "id": "1d5ccc0b",
   "metadata": {},
   "outputs": [
    {
     "data": {
      "text/html": [
       "<div>\n",
       "<style scoped>\n",
       "    .dataframe tbody tr th:only-of-type {\n",
       "        vertical-align: middle;\n",
       "    }\n",
       "\n",
       "    .dataframe tbody tr th {\n",
       "        vertical-align: top;\n",
       "    }\n",
       "\n",
       "    .dataframe thead th {\n",
       "        text-align: right;\n",
       "    }\n",
       "</style>\n",
       "<table border=\"1\" class=\"dataframe\">\n",
       "  <thead>\n",
       "    <tr style=\"text-align: right;\">\n",
       "      <th></th>\n",
       "      <th>seat</th>\n",
       "      <th>year</th>\n",
       "      <th>party</th>\n",
       "      <th>name</th>\n",
       "      <th>votes</th>\n",
       "      <th>votes_pc</th>\n",
       "      <th>winner</th>\n",
       "    </tr>\n",
       "  </thead>\n",
       "  <tbody>\n",
       "    <tr>\n",
       "      <th>0</th>\n",
       "      <td>Dhaka-3</td>\n",
       "      <td>2008</td>\n",
       "      <td>BNP</td>\n",
       "      <td>Gayeshwar Chandra Roy</td>\n",
       "      <td>70680.0</td>\n",
       "      <td>36.71</td>\n",
       "      <td>no</td>\n",
       "    </tr>\n",
       "    <tr>\n",
       "      <th>1</th>\n",
       "      <td>Dhaka-6</td>\n",
       "      <td>1991</td>\n",
       "      <td>Independent</td>\n",
       "      <td>Sayed Sharafat Hossain</td>\n",
       "      <td>8.0</td>\n",
       "      <td>0.01</td>\n",
       "      <td>no</td>\n",
       "    </tr>\n",
       "    <tr>\n",
       "      <th>2</th>\n",
       "      <td>Dhaka-6</td>\n",
       "      <td>1991</td>\n",
       "      <td>Jatiya Janata Party (Asad)</td>\n",
       "      <td>Md. Afzalul Huq Afzal</td>\n",
       "      <td>9.0</td>\n",
       "      <td>0.01</td>\n",
       "      <td>no</td>\n",
       "    </tr>\n",
       "    <tr>\n",
       "      <th>3</th>\n",
       "      <td>Comilla-3</td>\n",
       "      <td>2001</td>\n",
       "      <td>Independent</td>\n",
       "      <td>Md. Ainul Haque</td>\n",
       "      <td>12.0</td>\n",
       "      <td>0.01</td>\n",
       "      <td>no</td>\n",
       "    </tr>\n",
       "    <tr>\n",
       "      <th>4</th>\n",
       "      <td>Dhaka-5</td>\n",
       "      <td>1991</td>\n",
       "      <td>Jatiyatabadi Gonotantrik Chashi Dal</td>\n",
       "      <td>Afzaluddin Chowdhury</td>\n",
       "      <td>14.0</td>\n",
       "      <td>0.01</td>\n",
       "      <td>no</td>\n",
       "    </tr>\n",
       "  </tbody>\n",
       "</table>\n",
       "</div>"
      ],
      "text/plain": [
       "        seat  year                                party  \\\n",
       "0    Dhaka-3  2008                                  BNP   \n",
       "1    Dhaka-6  1991                          Independent   \n",
       "2    Dhaka-6  1991           Jatiya Janata Party (Asad)   \n",
       "3  Comilla-3  2001                          Independent   \n",
       "4    Dhaka-5  1991  Jatiyatabadi Gonotantrik Chashi Dal   \n",
       "\n",
       "                     name    votes  votes_pc winner  \n",
       "0   Gayeshwar Chandra Roy  70680.0     36.71     no  \n",
       "1  Sayed Sharafat Hossain      8.0      0.01     no  \n",
       "2   Md. Afzalul Huq Afzal      9.0      0.01     no  \n",
       "3         Md. Ainul Haque     12.0      0.01     no  \n",
       "4    Afzaluddin Chowdhury     14.0      0.01     no  "
      ]
     },
     "execution_count": 3,
     "metadata": {},
     "output_type": "execute_result"
    }
   ],
   "source": [
    "dfc = pd.read_csv('data/candidate_result.csv')\n",
    "dfc.head()"
   ]
  },
  {
   "cell_type": "code",
   "execution_count": 4,
   "id": "3db1cf8a",
   "metadata": {},
   "outputs": [
    {
     "data": {
      "text/plain": [
       "(8747, 7)"
      ]
     },
     "execution_count": 4,
     "metadata": {},
     "output_type": "execute_result"
    }
   ],
   "source": [
    "dfc.shape"
   ]
  },
  {
   "cell_type": "code",
   "execution_count": 5,
   "id": "7ad9b32a",
   "metadata": {},
   "outputs": [
    {
     "data": {
      "text/plain": [
       "(8183, 7)"
      ]
     },
     "execution_count": 5,
     "metadata": {},
     "output_type": "execute_result"
    }
   ],
   "source": [
    "# only take 1991-2008 election data\n",
    "dfc = dfc[dfc.year.isin(years)]\n",
    "dfc.shape"
   ]
  },
  {
   "cell_type": "markdown",
   "id": "b1fc5d9b",
   "metadata": {},
   "source": [
    "### vote win count"
   ]
  },
  {
   "cell_type": "code",
   "execution_count": 6,
   "id": "be986c55",
   "metadata": {},
   "outputs": [
    {
     "data": {
      "text/plain": [
       "(1150, 7)"
      ]
     },
     "execution_count": 6,
     "metadata": {},
     "output_type": "execute_result"
    }
   ],
   "source": [
    "# only take winners data\n",
    "dfcwin = dfc[dfc.winner == 'yes']\n",
    "dfcwin.shape"
   ]
  },
  {
   "cell_type": "code",
   "execution_count": 7,
   "id": "33b9a87b",
   "metadata": {},
   "outputs": [
    {
     "data": {
      "text/html": [
       "<div>\n",
       "<style scoped>\n",
       "    .dataframe tbody tr th:only-of-type {\n",
       "        vertical-align: middle;\n",
       "    }\n",
       "\n",
       "    .dataframe tbody tr th {\n",
       "        vertical-align: top;\n",
       "    }\n",
       "\n",
       "    .dataframe thead th {\n",
       "        text-align: right;\n",
       "    }\n",
       "</style>\n",
       "<table border=\"1\" class=\"dataframe\">\n",
       "  <thead>\n",
       "    <tr style=\"text-align: right;\">\n",
       "      <th></th>\n",
       "      <th>seat_no</th>\n",
       "      <th>seat</th>\n",
       "      <th>district</th>\n",
       "      <th>division</th>\n",
       "      <th>region</th>\n",
       "      <th>shape_len</th>\n",
       "      <th>shape_area</th>\n",
       "      <th>geometry</th>\n",
       "    </tr>\n",
       "  </thead>\n",
       "  <tbody>\n",
       "    <tr>\n",
       "      <th>0</th>\n",
       "      <td>1</td>\n",
       "      <td>Panchagarh-1</td>\n",
       "      <td>Panchagarh</td>\n",
       "      <td>Rangpur</td>\n",
       "      <td>Urban</td>\n",
       "      <td>2.787812</td>\n",
       "      <td>0.061199</td>\n",
       "      <td>POLYGON ((88.72746 26.34527, 88.72772 26.34494...</td>\n",
       "    </tr>\n",
       "    <tr>\n",
       "      <th>1</th>\n",
       "      <td>2</td>\n",
       "      <td>Panchagarh-2</td>\n",
       "      <td>Panchagarh</td>\n",
       "      <td>Rangpur</td>\n",
       "      <td>Rural</td>\n",
       "      <td>1.411258</td>\n",
       "      <td>0.064286</td>\n",
       "      <td>POLYGON ((88.76158 26.30059, 88.76176 26.29971...</td>\n",
       "    </tr>\n",
       "    <tr>\n",
       "      <th>2</th>\n",
       "      <td>3</td>\n",
       "      <td>Thakurgaon-1</td>\n",
       "      <td>Thakurgaon</td>\n",
       "      <td>Rangpur</td>\n",
       "      <td>Urban</td>\n",
       "      <td>1.255212</td>\n",
       "      <td>0.058832</td>\n",
       "      <td>POLYGON ((88.55589 26.17948, 88.55684 26.17788...</td>\n",
       "    </tr>\n",
       "    <tr>\n",
       "      <th>3</th>\n",
       "      <td>4</td>\n",
       "      <td>Thakurgaon-2</td>\n",
       "      <td>Thakurgaon</td>\n",
       "      <td>Rangpur</td>\n",
       "      <td>Rural</td>\n",
       "      <td>1.858839</td>\n",
       "      <td>0.045806</td>\n",
       "      <td>POLYGON ((88.32191 26.20205, 88.3222 26.20129,...</td>\n",
       "    </tr>\n",
       "    <tr>\n",
       "      <th>4</th>\n",
       "      <td>5</td>\n",
       "      <td>Thakurgaon-3</td>\n",
       "      <td>Thakurgaon</td>\n",
       "      <td>Rangpur</td>\n",
       "      <td>Rural</td>\n",
       "      <td>1.810654</td>\n",
       "      <td>0.059069</td>\n",
       "      <td>POLYGON ((88.25475 26.03583, 88.25828 26.03391...</td>\n",
       "    </tr>\n",
       "  </tbody>\n",
       "</table>\n",
       "</div>"
      ],
      "text/plain": [
       "   seat_no          seat    district division region  shape_len  shape_area  \\\n",
       "0        1  Panchagarh-1  Panchagarh  Rangpur  Urban   2.787812    0.061199   \n",
       "1        2  Panchagarh-2  Panchagarh  Rangpur  Rural   1.411258    0.064286   \n",
       "2        3  Thakurgaon-1  Thakurgaon  Rangpur  Urban   1.255212    0.058832   \n",
       "3        4  Thakurgaon-2  Thakurgaon  Rangpur  Rural   1.858839    0.045806   \n",
       "4        5  Thakurgaon-3  Thakurgaon  Rangpur  Rural   1.810654    0.059069   \n",
       "\n",
       "                                            geometry  \n",
       "0  POLYGON ((88.72746 26.34527, 88.72772 26.34494...  \n",
       "1  POLYGON ((88.76158 26.30059, 88.76176 26.29971...  \n",
       "2  POLYGON ((88.55589 26.17948, 88.55684 26.17788...  \n",
       "3  POLYGON ((88.32191 26.20205, 88.3222 26.20129,...  \n",
       "4  POLYGON ((88.25475 26.03583, 88.25828 26.03391...  "
      ]
     },
     "execution_count": 7,
     "metadata": {},
     "output_type": "execute_result"
    }
   ],
   "source": [
    "bdmap = gpd.read_file('map/seats.shp')\n",
    "bdmap.head()"
   ]
  },
  {
   "cell_type": "code",
   "execution_count": 8,
   "id": "8a7d9933",
   "metadata": {},
   "outputs": [
    {
     "data": {
      "image/png": "[encoded data removed]",
      "text/plain": [
       "<Figure size 640x480 with 1 Axes>"
      ]
     },
     "metadata": {},
     "output_type": "display_data"
    }
   ],
   "source": [
    "# plot bar chart counting seats of each region\n",
    "ax = sns.countplot(data=bdmap, x=\"region\")\n",
    "# add bar label\n",
    "for cont in ax.containers:\n",
    "    ax.bar_label(cont, fontsize=10)\n",
    "# g.fig.subplots_adjust(top=0.85)\n",
    "ax.set_ylabel('seat count')\n",
    "ax.set_title('BD general elections 1991-2008: number of urban and rural seats')\n",
    "ax.get_figure().savefig('fig/mainp_region_count',bbox_inches='tight')"
   ]
  },
  {
   "cell_type": "code",
   "execution_count": 9,
   "id": "4e1d24dc",
   "metadata": {},
   "outputs": [
    {
     "data": {
      "text/html": [
       "<div>\n",
       "<style scoped>\n",
       "    .dataframe tbody tr th:only-of-type {\n",
       "        vertical-align: middle;\n",
       "    }\n",
       "\n",
       "    .dataframe tbody tr th {\n",
       "        vertical-align: top;\n",
       "    }\n",
       "\n",
       "    .dataframe thead th {\n",
       "        text-align: right;\n",
       "    }\n",
       "</style>\n",
       "<table border=\"1\" class=\"dataframe\">\n",
       "  <thead>\n",
       "    <tr style=\"text-align: right;\">\n",
       "      <th></th>\n",
       "      <th>seat</th>\n",
       "      <th>region</th>\n",
       "      <th>year</th>\n",
       "      <th>party</th>\n",
       "    </tr>\n",
       "  </thead>\n",
       "  <tbody>\n",
       "    <tr>\n",
       "      <th>0</th>\n",
       "      <td>Panchagarh-1</td>\n",
       "      <td>Urban</td>\n",
       "      <td>1991</td>\n",
       "      <td>BNP</td>\n",
       "    </tr>\n",
       "    <tr>\n",
       "      <th>1</th>\n",
       "      <td>Panchagarh-1</td>\n",
       "      <td>Urban</td>\n",
       "      <td>1996</td>\n",
       "      <td>BNP</td>\n",
       "    </tr>\n",
       "    <tr>\n",
       "      <th>2</th>\n",
       "      <td>Panchagarh-1</td>\n",
       "      <td>Urban</td>\n",
       "      <td>2001</td>\n",
       "      <td>BNP</td>\n",
       "    </tr>\n",
       "    <tr>\n",
       "      <th>3</th>\n",
       "      <td>Panchagarh-1</td>\n",
       "      <td>Urban</td>\n",
       "      <td>2008</td>\n",
       "      <td>AL</td>\n",
       "    </tr>\n",
       "    <tr>\n",
       "      <th>4</th>\n",
       "      <td>Panchagarh-2</td>\n",
       "      <td>Rural</td>\n",
       "      <td>1991</td>\n",
       "      <td>CPB</td>\n",
       "    </tr>\n",
       "  </tbody>\n",
       "</table>\n",
       "</div>"
      ],
      "text/plain": [
       "           seat region  year party\n",
       "0  Panchagarh-1  Urban  1991   BNP\n",
       "1  Panchagarh-1  Urban  1996   BNP\n",
       "2  Panchagarh-1  Urban  2001   BNP\n",
       "3  Panchagarh-1  Urban  2008    AL\n",
       "4  Panchagarh-2  Rural  1991   CPB"
      ]
     },
     "execution_count": 9,
     "metadata": {},
     "output_type": "execute_result"
    }
   ],
   "source": [
    "# join data with map data to get region\n",
    "df_region = pd.merge(bdmap[['seat', 'region']], dfcwin[['seat', 'year', 'party']], how='left', on='seat')\n",
    "df_region.head()"
   ]
  },
  {
   "cell_type": "code",
   "execution_count": 10,
   "id": "9bfcebac",
   "metadata": {},
   "outputs": [
    {
     "data": {
      "text/html": [
       "<div>\n",
       "<style scoped>\n",
       "    .dataframe tbody tr th:only-of-type {\n",
       "        vertical-align: middle;\n",
       "    }\n",
       "\n",
       "    .dataframe tbody tr th {\n",
       "        vertical-align: top;\n",
       "    }\n",
       "\n",
       "    .dataframe thead th {\n",
       "        text-align: right;\n",
       "    }\n",
       "</style>\n",
       "<table border=\"1\" class=\"dataframe\">\n",
       "  <thead>\n",
       "    <tr style=\"text-align: right;\">\n",
       "      <th></th>\n",
       "      <th>year</th>\n",
       "      <th>region</th>\n",
       "      <th>party</th>\n",
       "      <th>count</th>\n",
       "    </tr>\n",
       "  </thead>\n",
       "  <tbody>\n",
       "    <tr>\n",
       "      <th>0</th>\n",
       "      <td>1991</td>\n",
       "      <td>Rural</td>\n",
       "      <td>AL</td>\n",
       "      <td>70</td>\n",
       "    </tr>\n",
       "    <tr>\n",
       "      <th>1</th>\n",
       "      <td>1991</td>\n",
       "      <td>Rural</td>\n",
       "      <td>BAKSAL</td>\n",
       "      <td>3</td>\n",
       "    </tr>\n",
       "    <tr>\n",
       "      <th>2</th>\n",
       "      <td>1991</td>\n",
       "      <td>Rural</td>\n",
       "      <td>BNP</td>\n",
       "      <td>85</td>\n",
       "    </tr>\n",
       "    <tr>\n",
       "      <th>3</th>\n",
       "      <td>1991</td>\n",
       "      <td>Rural</td>\n",
       "      <td>CPB</td>\n",
       "      <td>4</td>\n",
       "    </tr>\n",
       "    <tr>\n",
       "      <th>4</th>\n",
       "      <td>1991</td>\n",
       "      <td>Rural</td>\n",
       "      <td>Ganatantri Party</td>\n",
       "      <td>1</td>\n",
       "    </tr>\n",
       "  </tbody>\n",
       "</table>\n",
       "</div>"
      ],
      "text/plain": [
       "   year region             party  count\n",
       "0  1991  Rural                AL     70\n",
       "1  1991  Rural            BAKSAL      3\n",
       "2  1991  Rural               BNP     85\n",
       "3  1991  Rural               CPB      4\n",
       "4  1991  Rural  Ganatantri Party      1"
      ]
     },
     "execution_count": 10,
     "metadata": {},
     "output_type": "execute_result"
    }
   ],
   "source": [
    "# find win count for each year for each region of each party\n",
    "dfr = df_region.groupby(['year', 'region', 'party']).size().reset_index(name='count')\n",
    "dfr.head()"
   ]
  },
  {
   "cell_type": "code",
   "execution_count": 11,
   "id": "8e9f4dd1",
   "metadata": {},
   "outputs": [
    {
     "data": {
      "text/html": [
       "<div>\n",
       "<style scoped>\n",
       "    .dataframe tbody tr th:only-of-type {\n",
       "        vertical-align: middle;\n",
       "    }\n",
       "\n",
       "    .dataframe tbody tr th {\n",
       "        vertical-align: top;\n",
       "    }\n",
       "\n",
       "    .dataframe thead th {\n",
       "        text-align: right;\n",
       "    }\n",
       "</style>\n",
       "<table border=\"1\" class=\"dataframe\">\n",
       "  <thead>\n",
       "    <tr style=\"text-align: right;\">\n",
       "      <th></th>\n",
       "      <th>year</th>\n",
       "      <th>region</th>\n",
       "      <th>party</th>\n",
       "      <th>count</th>\n",
       "    </tr>\n",
       "  </thead>\n",
       "  <tbody>\n",
       "    <tr>\n",
       "      <th>0</th>\n",
       "      <td>1991</td>\n",
       "      <td>Rural</td>\n",
       "      <td>AL</td>\n",
       "      <td>70</td>\n",
       "    </tr>\n",
       "    <tr>\n",
       "      <th>2</th>\n",
       "      <td>1991</td>\n",
       "      <td>Rural</td>\n",
       "      <td>BNP</td>\n",
       "      <td>85</td>\n",
       "    </tr>\n",
       "    <tr>\n",
       "      <th>13</th>\n",
       "      <td>1991</td>\n",
       "      <td>Urban</td>\n",
       "      <td>AL</td>\n",
       "      <td>15</td>\n",
       "    </tr>\n",
       "    <tr>\n",
       "      <th>15</th>\n",
       "      <td>1991</td>\n",
       "      <td>Urban</td>\n",
       "      <td>BNP</td>\n",
       "      <td>49</td>\n",
       "    </tr>\n",
       "    <tr>\n",
       "      <th>20</th>\n",
       "      <td>1996</td>\n",
       "      <td>Rural</td>\n",
       "      <td>AL</td>\n",
       "      <td>107</td>\n",
       "    </tr>\n",
       "    <tr>\n",
       "      <th>21</th>\n",
       "      <td>1996</td>\n",
       "      <td>Rural</td>\n",
       "      <td>BNP</td>\n",
       "      <td>75</td>\n",
       "    </tr>\n",
       "    <tr>\n",
       "      <th>27</th>\n",
       "      <td>1996</td>\n",
       "      <td>Urban</td>\n",
       "      <td>AL</td>\n",
       "      <td>34</td>\n",
       "    </tr>\n",
       "    <tr>\n",
       "      <th>28</th>\n",
       "      <td>1996</td>\n",
       "      <td>Urban</td>\n",
       "      <td>BNP</td>\n",
       "      <td>31</td>\n",
       "    </tr>\n",
       "    <tr>\n",
       "      <th>31</th>\n",
       "      <td>2001</td>\n",
       "      <td>Rural</td>\n",
       "      <td>AL</td>\n",
       "      <td>44</td>\n",
       "    </tr>\n",
       "    <tr>\n",
       "      <th>33</th>\n",
       "      <td>2001</td>\n",
       "      <td>Rural</td>\n",
       "      <td>BNP</td>\n",
       "      <td>128</td>\n",
       "    </tr>\n",
       "    <tr>\n",
       "      <th>40</th>\n",
       "      <td>2001</td>\n",
       "      <td>Urban</td>\n",
       "      <td>AL</td>\n",
       "      <td>12</td>\n",
       "    </tr>\n",
       "    <tr>\n",
       "      <th>41</th>\n",
       "      <td>2001</td>\n",
       "      <td>Urban</td>\n",
       "      <td>BNP</td>\n",
       "      <td>55</td>\n",
       "    </tr>\n",
       "    <tr>\n",
       "      <th>45</th>\n",
       "      <td>2008</td>\n",
       "      <td>Rural</td>\n",
       "      <td>AL</td>\n",
       "      <td>163</td>\n",
       "    </tr>\n",
       "    <tr>\n",
       "      <th>46</th>\n",
       "      <td>2008</td>\n",
       "      <td>Rural</td>\n",
       "      <td>BNP</td>\n",
       "      <td>22</td>\n",
       "    </tr>\n",
       "    <tr>\n",
       "      <th>52</th>\n",
       "      <td>2008</td>\n",
       "      <td>Urban</td>\n",
       "      <td>AL</td>\n",
       "      <td>64</td>\n",
       "    </tr>\n",
       "    <tr>\n",
       "      <th>54</th>\n",
       "      <td>2008</td>\n",
       "      <td>Urban</td>\n",
       "      <td>BNP</td>\n",
       "      <td>8</td>\n",
       "    </tr>\n",
       "  </tbody>\n",
       "</table>\n",
       "</div>"
      ],
      "text/plain": [
       "    year region party  count\n",
       "0   1991  Rural    AL     70\n",
       "2   1991  Rural   BNP     85\n",
       "13  1991  Urban    AL     15\n",
       "15  1991  Urban   BNP     49\n",
       "20  1996  Rural    AL    107\n",
       "21  1996  Rural   BNP     75\n",
       "27  1996  Urban    AL     34\n",
       "28  1996  Urban   BNP     31\n",
       "31  2001  Rural    AL     44\n",
       "33  2001  Rural   BNP    128\n",
       "40  2001  Urban    AL     12\n",
       "41  2001  Urban   BNP     55\n",
       "45  2008  Rural    AL    163\n",
       "46  2008  Rural   BNP     22\n",
       "52  2008  Urban    AL     64\n",
       "54  2008  Urban   BNP      8"
      ]
     },
     "execution_count": 11,
     "metadata": {},
     "output_type": "execute_result"
    }
   ],
   "source": [
    "# only keep AL and BNP data\n",
    "dfr = dfr[dfr.party.isin(mainp)].copy()\n",
    "dfr"
   ]
  },
  {
   "cell_type": "code",
   "execution_count": 12,
   "id": "7ae1f547",
   "metadata": {},
   "outputs": [],
   "source": [
    "dfr.to_csv('dataout/mainp_region_win.csv', index=False)"
   ]
  },
  {
   "cell_type": "code",
   "execution_count": 13,
   "id": "1e5da31b",
   "metadata": {},
   "outputs": [
    {
     "data": {
      "image/png": "[encoded data removed]",
      "text/plain": [
       "<Figure size 1086.38x500 with 2 Axes>"
      ]
     },
     "metadata": {},
     "output_type": "display_data"
    }
   ],
   "source": [
    "# plot bar chart for each region\n",
    "g = sns.catplot(x=\"year\", y='count', col=\"region\", hue='party', data=dfr, kind ='bar')\n",
    "g.fig.subplots_adjust(top=0.85)\n",
    "g.set_ylabels('seat count')\n",
    "g.fig.suptitle('BD general elections 1991-2008: party seats win count by region')\n",
    "g.fig.savefig('fig/mainp_region_win',bbox_inches='tight')"
   ]
  },
  {
   "cell_type": "code",
   "execution_count": 14,
   "id": "81294766",
   "metadata": {},
   "outputs": [
    {
     "data": {
      "text/html": [
       "<div>\n",
       "<style scoped>\n",
       "    .dataframe tbody tr th:only-of-type {\n",
       "        vertical-align: middle;\n",
       "    }\n",
       "\n",
       "    .dataframe tbody tr th {\n",
       "        vertical-align: top;\n",
       "    }\n",
       "\n",
       "    .dataframe thead th {\n",
       "        text-align: right;\n",
       "    }\n",
       "</style>\n",
       "<table border=\"1\" class=\"dataframe\">\n",
       "  <thead>\n",
       "    <tr style=\"text-align: right;\">\n",
       "      <th></th>\n",
       "      <th>party</th>\n",
       "      <th>region</th>\n",
       "      <th>count</th>\n",
       "    </tr>\n",
       "  </thead>\n",
       "  <tbody>\n",
       "    <tr>\n",
       "      <th>0</th>\n",
       "      <td>AL</td>\n",
       "      <td>Rural</td>\n",
       "      <td>96.0</td>\n",
       "    </tr>\n",
       "    <tr>\n",
       "      <th>1</th>\n",
       "      <td>AL</td>\n",
       "      <td>Urban</td>\n",
       "      <td>31.0</td>\n",
       "    </tr>\n",
       "    <tr>\n",
       "      <th>2</th>\n",
       "      <td>BNP</td>\n",
       "      <td>Rural</td>\n",
       "      <td>78.0</td>\n",
       "    </tr>\n",
       "    <tr>\n",
       "      <th>3</th>\n",
       "      <td>BNP</td>\n",
       "      <td>Urban</td>\n",
       "      <td>36.0</td>\n",
       "    </tr>\n",
       "  </tbody>\n",
       "</table>\n",
       "</div>"
      ],
      "text/plain": [
       "  party region  count\n",
       "0    AL  Rural   96.0\n",
       "1    AL  Urban   31.0\n",
       "2   BNP  Rural   78.0\n",
       "3   BNP  Urban   36.0"
      ]
     },
     "execution_count": 14,
     "metadata": {},
     "output_type": "execute_result"
    }
   ],
   "source": [
    "# get average seats won by AL and BNP for each region\n",
    "dfrm = dfr.groupby(['party', 'region']).mean()['count'].round().reset_index()\n",
    "dfrm"
   ]
  },
  {
   "cell_type": "code",
   "execution_count": 15,
   "id": "fac4ab2e",
   "metadata": {},
   "outputs": [
    {
     "data": {
      "image/png": "[encoded data removed]",
      "text/plain": [
       "<Figure size 640x480 with 1 Axes>"
      ]
     },
     "metadata": {},
     "output_type": "display_data"
    }
   ],
   "source": [
    "# plot bar chart for average seats won\n",
    "ax = sns.barplot(x=\"region\", y='count', hue='party', data=dfrm)\n",
    "ax.set_ylabel('seat count')\n",
    "ax.set_title('BD general elections 1991-2008: average seats win count for each region')\n",
    "ax.figure.savefig('fig/mainp_region_win_avg',bbox_inches='tight')"
   ]
  },
  {
   "cell_type": "markdown",
   "id": "7a6ed7fd",
   "metadata": {},
   "source": [
    "### vote percentage"
   ]
  },
  {
   "cell_type": "code",
   "execution_count": 16,
   "id": "3f6844c8",
   "metadata": {},
   "outputs": [
    {
     "data": {
      "text/plain": [
       "(2118, 7)"
      ]
     },
     "execution_count": 16,
     "metadata": {},
     "output_type": "execute_result"
    }
   ],
   "source": [
    "# only take AL-BNP data\n",
    "dfcmainp = dfc[dfc.party.isin(mainp)]\n",
    "dfcmainp.shape"
   ]
  },
  {
   "cell_type": "code",
   "execution_count": 17,
   "id": "9a8c76e8",
   "metadata": {},
   "outputs": [],
   "source": [
    "dfcmainp = dfcmainp[['seat', 'year', 'party', 'votes_pc']]"
   ]
  },
  {
   "cell_type": "code",
   "execution_count": 18,
   "id": "d6701b02",
   "metadata": {},
   "outputs": [
    {
     "data": {
      "text/plain": [
       "56"
      ]
     },
     "execution_count": 18,
     "metadata": {},
     "output_type": "execute_result"
    }
   ],
   "source": [
    "# no. of null rows\n",
    "dfcmainp.isnull().any(axis=1).sum()"
   ]
  },
  {
   "cell_type": "code",
   "execution_count": 19,
   "id": "836a8f77",
   "metadata": {},
   "outputs": [
    {
     "data": {
      "text/html": [
       "<div>\n",
       "<style scoped>\n",
       "    .dataframe tbody tr th:only-of-type {\n",
       "        vertical-align: middle;\n",
       "    }\n",
       "\n",
       "    .dataframe tbody tr th {\n",
       "        vertical-align: top;\n",
       "    }\n",
       "\n",
       "    .dataframe thead th {\n",
       "        text-align: right;\n",
       "    }\n",
       "</style>\n",
       "<table border=\"1\" class=\"dataframe\">\n",
       "  <thead>\n",
       "    <tr style=\"text-align: right;\">\n",
       "      <th></th>\n",
       "      <th>seat</th>\n",
       "      <th>year</th>\n",
       "      <th>party</th>\n",
       "      <th>votes_pc</th>\n",
       "    </tr>\n",
       "  </thead>\n",
       "  <tbody>\n",
       "    <tr>\n",
       "      <th>5779</th>\n",
       "      <td>Lakshmipur-3</td>\n",
       "      <td>1991</td>\n",
       "      <td>AL</td>\n",
       "      <td>NaN</td>\n",
       "    </tr>\n",
       "    <tr>\n",
       "      <th>6115</th>\n",
       "      <td>Lakshmipur-3</td>\n",
       "      <td>1991</td>\n",
       "      <td>BNP</td>\n",
       "      <td>NaN</td>\n",
       "    </tr>\n",
       "    <tr>\n",
       "      <th>6145</th>\n",
       "      <td>Lakshmipur-3</td>\n",
       "      <td>1996</td>\n",
       "      <td>AL</td>\n",
       "      <td>NaN</td>\n",
       "    </tr>\n",
       "    <tr>\n",
       "      <th>6673</th>\n",
       "      <td>Lakshmipur-3</td>\n",
       "      <td>2001</td>\n",
       "      <td>AL</td>\n",
       "      <td>NaN</td>\n",
       "    </tr>\n",
       "    <tr>\n",
       "      <th>6706</th>\n",
       "      <td>Lakshmipur-3</td>\n",
       "      <td>1996</td>\n",
       "      <td>BNP</td>\n",
       "      <td>NaN</td>\n",
       "    </tr>\n",
       "  </tbody>\n",
       "</table>\n",
       "</div>"
      ],
      "text/plain": [
       "              seat  year party  votes_pc\n",
       "5779  Lakshmipur-3  1991    AL       NaN\n",
       "6115  Lakshmipur-3  1991   BNP       NaN\n",
       "6145  Lakshmipur-3  1996    AL       NaN\n",
       "6673  Lakshmipur-3  2001    AL       NaN\n",
       "6706  Lakshmipur-3  1996   BNP       NaN"
      ]
     },
     "execution_count": 19,
     "metadata": {},
     "output_type": "execute_result"
    }
   ],
   "source": [
    "dfnull = dfcmainp[dfcmainp.isnull().any(axis=1)]\n",
    "dfnull.head()"
   ]
  },
  {
   "cell_type": "code",
   "execution_count": 20,
   "id": "7ef96969",
   "metadata": {},
   "outputs": [
    {
     "data": {
      "text/plain": [
       "(56, 4)"
      ]
     },
     "execution_count": 20,
     "metadata": {},
     "output_type": "execute_result"
    }
   ],
   "source": [
    "dfnull.shape"
   ]
  },
  {
   "cell_type": "code",
   "execution_count": 21,
   "id": "99c711c0",
   "metadata": {},
   "outputs": [
    {
     "data": {
      "text/html": [
       "<div>\n",
       "<style scoped>\n",
       "    .dataframe tbody tr th:only-of-type {\n",
       "        vertical-align: middle;\n",
       "    }\n",
       "\n",
       "    .dataframe tbody tr th {\n",
       "        vertical-align: top;\n",
       "    }\n",
       "\n",
       "    .dataframe thead th {\n",
       "        text-align: right;\n",
       "    }\n",
       "</style>\n",
       "<table border=\"1\" class=\"dataframe\">\n",
       "  <thead>\n",
       "    <tr style=\"text-align: right;\">\n",
       "      <th></th>\n",
       "      <th>seat</th>\n",
       "      <th>year</th>\n",
       "      <th>0</th>\n",
       "      <th>pair</th>\n",
       "    </tr>\n",
       "  </thead>\n",
       "  <tbody>\n",
       "    <tr>\n",
       "      <th>0</th>\n",
       "      <td>Bagerhat-4</td>\n",
       "      <td>1996</td>\n",
       "      <td>1</td>\n",
       "      <td>Bagerhat-4,1996</td>\n",
       "    </tr>\n",
       "    <tr>\n",
       "      <th>1</th>\n",
       "      <td>Bagerhat-4</td>\n",
       "      <td>2008</td>\n",
       "      <td>1</td>\n",
       "      <td>Bagerhat-4,2008</td>\n",
       "    </tr>\n",
       "    <tr>\n",
       "      <th>2</th>\n",
       "      <td>Bandarban</td>\n",
       "      <td>1991</td>\n",
       "      <td>1</td>\n",
       "      <td>Bandarban,1991</td>\n",
       "    </tr>\n",
       "    <tr>\n",
       "      <th>3</th>\n",
       "      <td>Bandarban</td>\n",
       "      <td>1996</td>\n",
       "      <td>1</td>\n",
       "      <td>Bandarban,1996</td>\n",
       "    </tr>\n",
       "    <tr>\n",
       "      <th>4</th>\n",
       "      <td>Chapai Nawabganj-2</td>\n",
       "      <td>1991</td>\n",
       "      <td>1</td>\n",
       "      <td>Chapai Nawabganj-2,1991</td>\n",
       "    </tr>\n",
       "  </tbody>\n",
       "</table>\n",
       "</div>"
      ],
      "text/plain": [
       "                 seat  year  0                     pair\n",
       "0          Bagerhat-4  1996  1          Bagerhat-4,1996\n",
       "1          Bagerhat-4  2008  1          Bagerhat-4,2008\n",
       "2           Bandarban  1991  1           Bandarban,1991\n",
       "3           Bandarban  1996  1           Bandarban,1996\n",
       "4  Chapai Nawabganj-2  1991  1  Chapai Nawabganj-2,1991"
      ]
     },
     "execution_count": 21,
     "metadata": {},
     "output_type": "execute_result"
    }
   ],
   "source": [
    "# form (seat,year) pairs to remove null rows\n",
    "dfnull_pairs = dfnull.groupby(['seat', 'year']).size().reset_index()\n",
    "dfnull_pairs['pair'] = dfnull_pairs['seat'] + ',' + dfnull_pairs['year'].map(str)\n",
    "dfnull_pairs.head()"
   ]
  },
  {
   "cell_type": "code",
   "execution_count": 22,
   "id": "318f6cae",
   "metadata": {},
   "outputs": [
    {
     "data": {
      "text/html": [
       "<div>\n",
       "<style scoped>\n",
       "    .dataframe tbody tr th:only-of-type {\n",
       "        vertical-align: middle;\n",
       "    }\n",
       "\n",
       "    .dataframe tbody tr th {\n",
       "        vertical-align: top;\n",
       "    }\n",
       "\n",
       "    .dataframe thead th {\n",
       "        text-align: right;\n",
       "    }\n",
       "</style>\n",
       "<table border=\"1\" class=\"dataframe\">\n",
       "  <thead>\n",
       "    <tr style=\"text-align: right;\">\n",
       "      <th></th>\n",
       "      <th>seat</th>\n",
       "      <th>year</th>\n",
       "      <th>party</th>\n",
       "      <th>votes_pc</th>\n",
       "      <th>pair</th>\n",
       "    </tr>\n",
       "  </thead>\n",
       "  <tbody>\n",
       "    <tr>\n",
       "      <th>0</th>\n",
       "      <td>Dhaka-3</td>\n",
       "      <td>2008</td>\n",
       "      <td>BNP</td>\n",
       "      <td>36.71</td>\n",
       "      <td>Dhaka-3,2008</td>\n",
       "    </tr>\n",
       "    <tr>\n",
       "      <th>2989</th>\n",
       "      <td>Sylhet-6</td>\n",
       "      <td>2001</td>\n",
       "      <td>BNP</td>\n",
       "      <td>0.32</td>\n",
       "      <td>Sylhet-6,2001</td>\n",
       "    </tr>\n",
       "    <tr>\n",
       "      <th>3032</th>\n",
       "      <td>Comilla-10</td>\n",
       "      <td>2008</td>\n",
       "      <td>BNP</td>\n",
       "      <td>0.27</td>\n",
       "      <td>Comilla-10,2008</td>\n",
       "    </tr>\n",
       "    <tr>\n",
       "      <th>3135</th>\n",
       "      <td>Noakhali-6</td>\n",
       "      <td>2008</td>\n",
       "      <td>BNP</td>\n",
       "      <td>0.48</td>\n",
       "      <td>Noakhali-6,2008</td>\n",
       "    </tr>\n",
       "    <tr>\n",
       "      <th>3163</th>\n",
       "      <td>Rangpur-1</td>\n",
       "      <td>1991</td>\n",
       "      <td>BNP</td>\n",
       "      <td>0.78</td>\n",
       "      <td>Rangpur-1,1991</td>\n",
       "    </tr>\n",
       "  </tbody>\n",
       "</table>\n",
       "</div>"
      ],
      "text/plain": [
       "            seat  year party  votes_pc             pair\n",
       "0        Dhaka-3  2008   BNP     36.71     Dhaka-3,2008\n",
       "2989    Sylhet-6  2001   BNP      0.32    Sylhet-6,2001\n",
       "3032  Comilla-10  2008   BNP      0.27  Comilla-10,2008\n",
       "3135  Noakhali-6  2008   BNP      0.48  Noakhali-6,2008\n",
       "3163   Rangpur-1  1991   BNP      0.78   Rangpur-1,1991"
      ]
     },
     "execution_count": 22,
     "metadata": {},
     "output_type": "execute_result"
    }
   ],
   "source": [
    "# form (seat,year) pairs to remove null rows\n",
    "dfcmainp['pair'] = dfcmainp['seat'] + ',' + dfcmainp['year'].map(str)\n",
    "dfcmainp.head()"
   ]
  },
  {
   "cell_type": "code",
   "execution_count": 23,
   "id": "676881ff",
   "metadata": {},
   "outputs": [
    {
     "data": {
      "text/plain": [
       "(2062, 5)"
      ]
     },
     "execution_count": 23,
     "metadata": {},
     "output_type": "execute_result"
    }
   ],
   "source": [
    "# remove null rows\n",
    "dfcmainp = dfcmainp[~dfcmainp['pair'].isin(dfnull_pairs.pair)]\n",
    "dfcmainp.shape"
   ]
  },
  {
   "cell_type": "code",
   "execution_count": 28,
   "id": "df0b22b7",
   "metadata": {},
   "outputs": [
    {
     "data": {
      "text/html": [
       "<div>\n",
       "<style scoped>\n",
       "    .dataframe tbody tr th:only-of-type {\n",
       "        vertical-align: middle;\n",
       "    }\n",
       "\n",
       "    .dataframe tbody tr th {\n",
       "        vertical-align: top;\n",
       "    }\n",
       "\n",
       "    .dataframe thead th {\n",
       "        text-align: right;\n",
       "    }\n",
       "</style>\n",
       "<table border=\"1\" class=\"dataframe\">\n",
       "  <thead>\n",
       "    <tr style=\"text-align: right;\">\n",
       "      <th></th>\n",
       "      <th>seat</th>\n",
       "      <th>region</th>\n",
       "      <th>year</th>\n",
       "      <th>party</th>\n",
       "      <th>votes_pc</th>\n",
       "    </tr>\n",
       "  </thead>\n",
       "  <tbody>\n",
       "    <tr>\n",
       "      <th>0</th>\n",
       "      <td>Dhaka-3</td>\n",
       "      <td>Urban</td>\n",
       "      <td>2008</td>\n",
       "      <td>BNP</td>\n",
       "      <td>36.71</td>\n",
       "    </tr>\n",
       "    <tr>\n",
       "      <th>1</th>\n",
       "      <td>Sylhet-6</td>\n",
       "      <td>Rural</td>\n",
       "      <td>2001</td>\n",
       "      <td>BNP</td>\n",
       "      <td>0.32</td>\n",
       "    </tr>\n",
       "    <tr>\n",
       "      <th>2</th>\n",
       "      <td>Comilla-10</td>\n",
       "      <td>Rural</td>\n",
       "      <td>2008</td>\n",
       "      <td>BNP</td>\n",
       "      <td>0.27</td>\n",
       "    </tr>\n",
       "    <tr>\n",
       "      <th>3</th>\n",
       "      <td>Noakhali-6</td>\n",
       "      <td>Rural</td>\n",
       "      <td>2008</td>\n",
       "      <td>BNP</td>\n",
       "      <td>0.48</td>\n",
       "    </tr>\n",
       "    <tr>\n",
       "      <th>4</th>\n",
       "      <td>Rangpur-1</td>\n",
       "      <td>Rural</td>\n",
       "      <td>1991</td>\n",
       "      <td>BNP</td>\n",
       "      <td>0.78</td>\n",
       "    </tr>\n",
       "  </tbody>\n",
       "</table>\n",
       "</div>"
      ],
      "text/plain": [
       "         seat region  year party  votes_pc\n",
       "0     Dhaka-3  Urban  2008   BNP     36.71\n",
       "1    Sylhet-6  Rural  2001   BNP      0.32\n",
       "2  Comilla-10  Rural  2008   BNP      0.27\n",
       "3  Noakhali-6  Rural  2008   BNP      0.48\n",
       "4   Rangpur-1  Rural  1991   BNP      0.78"
      ]
     },
     "execution_count": 28,
     "metadata": {},
     "output_type": "execute_result"
    }
   ],
   "source": [
    "# join data with map data to get region\n",
    "df_region = pd.merge(bdmap[['seat', 'region']], dfcmainp, how='right', on='seat')\n",
    "df_region = df_region[['seat', 'region', 'year', 'party', 'votes_pc']]\n",
    "df_region.head()"
   ]
  },
  {
   "cell_type": "code",
   "execution_count": 29,
   "id": "edcacf29",
   "metadata": {},
   "outputs": [],
   "source": [
    "df_region.to_csv('dataout/mainp_region_votepc.csv', index=False)"
   ]
  },
  {
   "cell_type": "code",
   "execution_count": 33,
   "id": "d479883a",
   "metadata": {},
   "outputs": [
    {
     "data": {
      "image/png": "[encoded data removed]",
      "text/plain": [
       "<Figure size 1096.62x500 with 2 Axes>"
      ]
     },
     "metadata": {},
     "output_type": "display_data"
    }
   ],
   "source": [
    "# plot bar chart for vote % distribution of each party in each region\n",
    "ax = sns.catplot(data=df_region, x='year', y='votes_pc', hue='region', col='party', kind='box')\n",
    "ax.figure.ylabel = 'vote %'\n",
    "ax.figure.title = 'BD general elections 1991-2008: vote % for each region for BNP and AL'\n",
    "ax.figure.savefig('fig/mainp_region_votepc',bbox_inches='tight')"
   ]
  },
  {
   "cell_type": "code",
   "execution_count": 25,
   "id": "a7fc6bef",
   "metadata": {},
   "outputs": [
    {
     "data": {
      "text/html": [
       "<div>\n",
       "<style scoped>\n",
       "    .dataframe tbody tr th:only-of-type {\n",
       "        vertical-align: middle;\n",
       "    }\n",
       "\n",
       "    .dataframe tbody tr th {\n",
       "        vertical-align: top;\n",
       "    }\n",
       "\n",
       "    .dataframe thead th {\n",
       "        text-align: right;\n",
       "    }\n",
       "</style>\n",
       "<table border=\"1\" class=\"dataframe\">\n",
       "  <thead>\n",
       "    <tr style=\"text-align: right;\">\n",
       "      <th></th>\n",
       "      <th>year</th>\n",
       "      <th>region</th>\n",
       "      <th>party</th>\n",
       "      <th>votes_pc</th>\n",
       "    </tr>\n",
       "  </thead>\n",
       "  <tbody>\n",
       "    <tr>\n",
       "      <th>0</th>\n",
       "      <td>1991</td>\n",
       "      <td>Rural</td>\n",
       "      <td>AL</td>\n",
       "      <td>34.802701</td>\n",
       "    </tr>\n",
       "    <tr>\n",
       "      <th>1</th>\n",
       "      <td>1991</td>\n",
       "      <td>Rural</td>\n",
       "      <td>BNP</td>\n",
       "      <td>28.003417</td>\n",
       "    </tr>\n",
       "    <tr>\n",
       "      <th>2</th>\n",
       "      <td>1991</td>\n",
       "      <td>Urban</td>\n",
       "      <td>AL</td>\n",
       "      <td>33.368154</td>\n",
       "    </tr>\n",
       "    <tr>\n",
       "      <th>3</th>\n",
       "      <td>1991</td>\n",
       "      <td>Urban</td>\n",
       "      <td>BNP</td>\n",
       "      <td>35.957083</td>\n",
       "    </tr>\n",
       "    <tr>\n",
       "      <th>4</th>\n",
       "      <td>1996</td>\n",
       "      <td>Rural</td>\n",
       "      <td>AL</td>\n",
       "      <td>37.737549</td>\n",
       "    </tr>\n",
       "    <tr>\n",
       "      <th>5</th>\n",
       "      <td>1996</td>\n",
       "      <td>Rural</td>\n",
       "      <td>BNP</td>\n",
       "      <td>32.741773</td>\n",
       "    </tr>\n",
       "    <tr>\n",
       "      <th>6</th>\n",
       "      <td>1996</td>\n",
       "      <td>Urban</td>\n",
       "      <td>AL</td>\n",
       "      <td>37.732222</td>\n",
       "    </tr>\n",
       "    <tr>\n",
       "      <th>7</th>\n",
       "      <td>1996</td>\n",
       "      <td>Urban</td>\n",
       "      <td>BNP</td>\n",
       "      <td>34.329167</td>\n",
       "    </tr>\n",
       "    <tr>\n",
       "      <th>8</th>\n",
       "      <td>2001</td>\n",
       "      <td>Rural</td>\n",
       "      <td>AL</td>\n",
       "      <td>40.106482</td>\n",
       "    </tr>\n",
       "    <tr>\n",
       "      <th>9</th>\n",
       "      <td>2001</td>\n",
       "      <td>Rural</td>\n",
       "      <td>BNP</td>\n",
       "      <td>47.057907</td>\n",
       "    </tr>\n",
       "    <tr>\n",
       "      <th>10</th>\n",
       "      <td>2001</td>\n",
       "      <td>Urban</td>\n",
       "      <td>AL</td>\n",
       "      <td>41.012222</td>\n",
       "    </tr>\n",
       "    <tr>\n",
       "      <th>11</th>\n",
       "      <td>2001</td>\n",
       "      <td>Urban</td>\n",
       "      <td>BNP</td>\n",
       "      <td>49.609412</td>\n",
       "    </tr>\n",
       "    <tr>\n",
       "      <th>12</th>\n",
       "      <td>2008</td>\n",
       "      <td>Rural</td>\n",
       "      <td>AL</td>\n",
       "      <td>54.030787</td>\n",
       "    </tr>\n",
       "    <tr>\n",
       "      <th>13</th>\n",
       "      <td>2008</td>\n",
       "      <td>Rural</td>\n",
       "      <td>BNP</td>\n",
       "      <td>37.804571</td>\n",
       "    </tr>\n",
       "    <tr>\n",
       "      <th>14</th>\n",
       "      <td>2008</td>\n",
       "      <td>Urban</td>\n",
       "      <td>AL</td>\n",
       "      <td>56.226269</td>\n",
       "    </tr>\n",
       "    <tr>\n",
       "      <th>15</th>\n",
       "      <td>2008</td>\n",
       "      <td>Urban</td>\n",
       "      <td>BNP</td>\n",
       "      <td>37.330857</td>\n",
       "    </tr>\n",
       "  </tbody>\n",
       "</table>\n",
       "</div>"
      ],
      "text/plain": [
       "    year region party   votes_pc\n",
       "0   1991  Rural    AL  34.802701\n",
       "1   1991  Rural   BNP  28.003417\n",
       "2   1991  Urban    AL  33.368154\n",
       "3   1991  Urban   BNP  35.957083\n",
       "4   1996  Rural    AL  37.737549\n",
       "5   1996  Rural   BNP  32.741773\n",
       "6   1996  Urban    AL  37.732222\n",
       "7   1996  Urban   BNP  34.329167\n",
       "8   2001  Rural    AL  40.106482\n",
       "9   2001  Rural   BNP  47.057907\n",
       "10  2001  Urban    AL  41.012222\n",
       "11  2001  Urban   BNP  49.609412\n",
       "12  2008  Rural    AL  54.030787\n",
       "13  2008  Rural   BNP  37.804571\n",
       "14  2008  Urban    AL  56.226269\n",
       "15  2008  Urban   BNP  37.330857"
      ]
     },
     "execution_count": 25,
     "metadata": {},
     "output_type": "execute_result"
    }
   ],
   "source": [
    "# get avg vote % of each party each region each year\n",
    "dfr_vpc = df_region.groupby(['year', 'region', 'party'])['votes_pc'].mean().reset_index()\n",
    "dfr_vpc"
   ]
  },
  {
   "cell_type": "code",
   "execution_count": 26,
   "id": "984b8ced",
   "metadata": {},
   "outputs": [],
   "source": [
    "dfr_vpc.to_csv('dataout/mainp_region_votepc_avg.csv', index=False)"
   ]
  },
  {
   "cell_type": "code",
   "execution_count": 27,
   "id": "9a5c2b30",
   "metadata": {},
   "outputs": [
    {
     "data": {
      "image/png": "[encoded data removed]",
      "text/plain": [
       "<Figure size 640x480 with 1 Axes>"
      ]
     },
     "metadata": {},
     "output_type": "display_data"
    }
   ],
   "source": [
    "# plot bar chart for average vote % of each party in rural and urban areas\n",
    "ax = sns.barplot(data=dfr_vpc, x='year', y='votes_pc', hue='region')\n",
    "ax.set_ylabel('avg vote %')\n",
    "ax.set_title('BD general elections 1991-2008: average vote % for each region')\n",
    "ax.figure.savefig('fig/mainp_region_votepc_avg',bbox_inches='tight')"
   ]
  }
 ],
 "metadata": {
  "kernelspec": {
   "display_name": "Python 3",
   "language": "python",
   "name": "python3"
  },
  "language_info": {
   "codemirror_mode": {
    "name": "ipython",
    "version": 3
   },
   "file_extension": ".py",
   "mimetype": "text/x-python",
   "name": "python",
   "nbconvert_exporter": "python",
   "pygments_lexer": "ipython3",
   "version": "3.10.2"
  }
 },
 "nbformat": 4,
 "nbformat_minor": 5
}
