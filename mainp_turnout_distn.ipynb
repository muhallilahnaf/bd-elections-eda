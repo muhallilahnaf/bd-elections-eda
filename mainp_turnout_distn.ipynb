{
 "cells": [
  {
   "cell_type": "code",
   "execution_count": 1,
   "metadata": {},
   "outputs": [],
   "source": [
    "import matplotlib.pyplot as plt\n",
    "import seaborn as sns\n",
    "sns.set_theme()\n",
    "import pandas as pd\n",
    "import geopandas as gpd\n",
    "import numpy as np\n",
    "from mpl_toolkits.axes_grid1 import make_axes_locatable"
   ]
  },
  {
   "cell_type": "code",
   "execution_count": 2,
   "metadata": {},
   "outputs": [],
   "source": [
    "bigp = ['AL', 'BNP', 'Jamaat', 'JaPa']\n",
    "mainp = ['AL', 'BNP']\n",
    "years = [1991, 1996, 2001, 2008]"
   ]
  },
  {
   "cell_type": "code",
   "execution_count": 3,
   "metadata": {},
   "outputs": [
    {
     "data": {
      "text/html": [
       "<div>\n",
       "<style scoped>\n",
       "    .dataframe tbody tr th:only-of-type {\n",
       "        vertical-align: middle;\n",
       "    }\n",
       "\n",
       "    .dataframe tbody tr th {\n",
       "        vertical-align: top;\n",
       "    }\n",
       "\n",
       "    .dataframe thead th {\n",
       "        text-align: right;\n",
       "    }\n",
       "</style>\n",
       "<table border=\"1\" class=\"dataframe\">\n",
       "  <thead>\n",
       "    <tr style=\"text-align: right;\">\n",
       "      <th></th>\n",
       "      <th>seat</th>\n",
       "      <th>year</th>\n",
       "      <th>party</th>\n",
       "      <th>name</th>\n",
       "      <th>votes</th>\n",
       "      <th>votes_pc</th>\n",
       "      <th>winner</th>\n",
       "    </tr>\n",
       "  </thead>\n",
       "  <tbody>\n",
       "    <tr>\n",
       "      <th>0</th>\n",
       "      <td>Dhaka-3</td>\n",
       "      <td>2008</td>\n",
       "      <td>BNP</td>\n",
       "      <td>Gayeshwar Chandra Roy</td>\n",
       "      <td>70680.0</td>\n",
       "      <td>36.71</td>\n",
       "      <td>no</td>\n",
       "    </tr>\n",
       "    <tr>\n",
       "      <th>1</th>\n",
       "      <td>Dhaka-6</td>\n",
       "      <td>1991</td>\n",
       "      <td>Independent</td>\n",
       "      <td>Sayed Sharafat Hossain</td>\n",
       "      <td>8.0</td>\n",
       "      <td>0.01</td>\n",
       "      <td>no</td>\n",
       "    </tr>\n",
       "    <tr>\n",
       "      <th>2</th>\n",
       "      <td>Dhaka-6</td>\n",
       "      <td>1991</td>\n",
       "      <td>Jatiya Janata Party (Asad)</td>\n",
       "      <td>Md. Afzalul Huq Afzal</td>\n",
       "      <td>9.0</td>\n",
       "      <td>0.01</td>\n",
       "      <td>no</td>\n",
       "    </tr>\n",
       "    <tr>\n",
       "      <th>3</th>\n",
       "      <td>Comilla-3</td>\n",
       "      <td>2001</td>\n",
       "      <td>Independent</td>\n",
       "      <td>Md. Ainul Haque</td>\n",
       "      <td>12.0</td>\n",
       "      <td>0.01</td>\n",
       "      <td>no</td>\n",
       "    </tr>\n",
       "    <tr>\n",
       "      <th>4</th>\n",
       "      <td>Dhaka-5</td>\n",
       "      <td>1991</td>\n",
       "      <td>Jatiyatabadi Gonotantrik Chashi Dal</td>\n",
       "      <td>Afzaluddin Chowdhury</td>\n",
       "      <td>14.0</td>\n",
       "      <td>0.01</td>\n",
       "      <td>no</td>\n",
       "    </tr>\n",
       "  </tbody>\n",
       "</table>\n",
       "</div>"
      ],
      "text/plain": [
       "        seat  year                                party  \\\n",
       "0    Dhaka-3  2008                                  BNP   \n",
       "1    Dhaka-6  1991                          Independent   \n",
       "2    Dhaka-6  1991           Jatiya Janata Party (Asad)   \n",
       "3  Comilla-3  2001                          Independent   \n",
       "4    Dhaka-5  1991  Jatiyatabadi Gonotantrik Chashi Dal   \n",
       "\n",
       "                     name    votes  votes_pc winner  \n",
       "0   Gayeshwar Chandra Roy  70680.0     36.71     no  \n",
       "1  Sayed Sharafat Hossain      8.0      0.01     no  \n",
       "2   Md. Afzalul Huq Afzal      9.0      0.01     no  \n",
       "3         Md. Ainul Haque     12.0      0.01     no  \n",
       "4    Afzaluddin Chowdhury     14.0      0.01     no  "
      ]
     },
     "execution_count": 3,
     "metadata": {},
     "output_type": "execute_result"
    }
   ],
   "source": [
    "dfc = pd.read_csv('data/candidate_result.csv')\n",
    "dfc.head()"
   ]
  },
  {
   "cell_type": "code",
   "execution_count": 4,
   "metadata": {},
   "outputs": [
    {
     "data": {
      "text/plain": [
       "(8747, 7)"
      ]
     },
     "execution_count": 4,
     "metadata": {},
     "output_type": "execute_result"
    }
   ],
   "source": [
    "dfc.shape"
   ]
  },
  {
   "cell_type": "code",
   "execution_count": 5,
   "metadata": {},
   "outputs": [
    {
     "data": {
      "text/plain": [
       "(8183, 7)"
      ]
     },
     "execution_count": 5,
     "metadata": {},
     "output_type": "execute_result"
    }
   ],
   "source": [
    "# only take 4 elections data\n",
    "dfc = dfc[dfc.year.isin(years)]\n",
    "dfc.shape"
   ]
  },
  {
   "cell_type": "code",
   "execution_count": 6,
   "metadata": {},
   "outputs": [
    {
     "data": {
      "text/html": [
       "<div>\n",
       "<style scoped>\n",
       "    .dataframe tbody tr th:only-of-type {\n",
       "        vertical-align: middle;\n",
       "    }\n",
       "\n",
       "    .dataframe tbody tr th {\n",
       "        vertical-align: top;\n",
       "    }\n",
       "\n",
       "    .dataframe thead th {\n",
       "        text-align: right;\n",
       "    }\n",
       "</style>\n",
       "<table border=\"1\" class=\"dataframe\">\n",
       "  <thead>\n",
       "    <tr style=\"text-align: right;\">\n",
       "      <th></th>\n",
       "      <th>seat</th>\n",
       "      <th>year</th>\n",
       "      <th>party</th>\n",
       "      <th>name</th>\n",
       "      <th>votes</th>\n",
       "      <th>votes_pc</th>\n",
       "      <th>winner</th>\n",
       "    </tr>\n",
       "  </thead>\n",
       "  <tbody>\n",
       "    <tr>\n",
       "      <th>5411</th>\n",
       "      <td>Noakhali-3</td>\n",
       "      <td>1991</td>\n",
       "      <td>BNP</td>\n",
       "      <td>Salah Uddin Kamran</td>\n",
       "      <td>11378.0</td>\n",
       "      <td>22.23</td>\n",
       "      <td>yes</td>\n",
       "    </tr>\n",
       "    <tr>\n",
       "      <th>5749</th>\n",
       "      <td>Mymensingh-8</td>\n",
       "      <td>1991</td>\n",
       "      <td>JaPa</td>\n",
       "      <td>Khurram Khan Chowdhury</td>\n",
       "      <td>18209.0</td>\n",
       "      <td>24.68</td>\n",
       "      <td>yes</td>\n",
       "    </tr>\n",
       "    <tr>\n",
       "      <th>5805</th>\n",
       "      <td>Barguna-2</td>\n",
       "      <td>1991</td>\n",
       "      <td>Independent</td>\n",
       "      <td>Nurul Islam Moni</td>\n",
       "      <td>19616.0</td>\n",
       "      <td>28.41</td>\n",
       "      <td>yes</td>\n",
       "    </tr>\n",
       "    <tr>\n",
       "      <th>5860</th>\n",
       "      <td>Kurigram-3</td>\n",
       "      <td>1991</td>\n",
       "      <td>AL</td>\n",
       "      <td>Md. Amjad Hossain Talukdar</td>\n",
       "      <td>20547.0</td>\n",
       "      <td>23.74</td>\n",
       "      <td>yes</td>\n",
       "    </tr>\n",
       "    <tr>\n",
       "      <th>5896</th>\n",
       "      <td>Noakhali-1</td>\n",
       "      <td>1991</td>\n",
       "      <td>BNP</td>\n",
       "      <td>Zainul Abdin Farroque</td>\n",
       "      <td>21418.0</td>\n",
       "      <td>31.97</td>\n",
       "      <td>yes</td>\n",
       "    </tr>\n",
       "  </tbody>\n",
       "</table>\n",
       "</div>"
      ],
      "text/plain": [
       "              seat  year        party                        name    votes  \\\n",
       "5411    Noakhali-3  1991          BNP          Salah Uddin Kamran  11378.0   \n",
       "5749  Mymensingh-8  1991         JaPa      Khurram Khan Chowdhury  18209.0   \n",
       "5805     Barguna-2  1991  Independent            Nurul Islam Moni  19616.0   \n",
       "5860    Kurigram-3  1991           AL  Md. Amjad Hossain Talukdar  20547.0   \n",
       "5896    Noakhali-1  1991          BNP       Zainul Abdin Farroque  21418.0   \n",
       "\n",
       "      votes_pc winner  \n",
       "5411     22.23    yes  \n",
       "5749     24.68    yes  \n",
       "5805     28.41    yes  \n",
       "5860     23.74    yes  \n",
       "5896     31.97    yes  "
      ]
     },
     "execution_count": 6,
     "metadata": {},
     "output_type": "execute_result"
    }
   ],
   "source": [
    "# only take winners data\n",
    "dfcwin = dfc[dfc.winner == 'yes']\n",
    "dfcwin.head()"
   ]
  },
  {
   "cell_type": "code",
   "execution_count": 7,
   "metadata": {},
   "outputs": [
    {
     "data": {
      "text/plain": [
       "(1150, 7)"
      ]
     },
     "execution_count": 7,
     "metadata": {},
     "output_type": "execute_result"
    }
   ],
   "source": [
    "dfcwin.shape"
   ]
  },
  {
   "cell_type": "code",
   "execution_count": 8,
   "metadata": {},
   "outputs": [
    {
     "data": {
      "text/html": [
       "<div>\n",
       "<style scoped>\n",
       "    .dataframe tbody tr th:only-of-type {\n",
       "        vertical-align: middle;\n",
       "    }\n",
       "\n",
       "    .dataframe tbody tr th {\n",
       "        vertical-align: top;\n",
       "    }\n",
       "\n",
       "    .dataframe thead th {\n",
       "        text-align: right;\n",
       "    }\n",
       "</style>\n",
       "<table border=\"1\" class=\"dataframe\">\n",
       "  <thead>\n",
       "    <tr style=\"text-align: right;\">\n",
       "      <th></th>\n",
       "      <th>seat</th>\n",
       "      <th>year</th>\n",
       "      <th>party</th>\n",
       "      <th>name</th>\n",
       "      <th>votes</th>\n",
       "      <th>votes_pc</th>\n",
       "      <th>winner</th>\n",
       "    </tr>\n",
       "  </thead>\n",
       "  <tbody>\n",
       "    <tr>\n",
       "      <th>5411</th>\n",
       "      <td>Noakhali-3</td>\n",
       "      <td>1991</td>\n",
       "      <td>BNP</td>\n",
       "      <td>Salah Uddin Kamran</td>\n",
       "      <td>11378.0</td>\n",
       "      <td>22.23</td>\n",
       "      <td>yes</td>\n",
       "    </tr>\n",
       "    <tr>\n",
       "      <th>5860</th>\n",
       "      <td>Kurigram-3</td>\n",
       "      <td>1991</td>\n",
       "      <td>AL</td>\n",
       "      <td>Md. Amjad Hossain Talukdar</td>\n",
       "      <td>20547.0</td>\n",
       "      <td>23.74</td>\n",
       "      <td>yes</td>\n",
       "    </tr>\n",
       "    <tr>\n",
       "      <th>5896</th>\n",
       "      <td>Noakhali-1</td>\n",
       "      <td>1991</td>\n",
       "      <td>BNP</td>\n",
       "      <td>Zainul Abdin Farroque</td>\n",
       "      <td>21418.0</td>\n",
       "      <td>31.97</td>\n",
       "      <td>yes</td>\n",
       "    </tr>\n",
       "    <tr>\n",
       "      <th>5927</th>\n",
       "      <td>Barisal-4</td>\n",
       "      <td>1991</td>\n",
       "      <td>AL</td>\n",
       "      <td>Mohiuddin Ahmed</td>\n",
       "      <td>22093.0</td>\n",
       "      <td>30.22</td>\n",
       "      <td>yes</td>\n",
       "    </tr>\n",
       "    <tr>\n",
       "      <th>5961</th>\n",
       "      <td>Sylhet-4</td>\n",
       "      <td>1991</td>\n",
       "      <td>AL</td>\n",
       "      <td>Imran Ahmad</td>\n",
       "      <td>23018.0</td>\n",
       "      <td>42.76</td>\n",
       "      <td>yes</td>\n",
       "    </tr>\n",
       "  </tbody>\n",
       "</table>\n",
       "</div>"
      ],
      "text/plain": [
       "            seat  year party                        name    votes  votes_pc  \\\n",
       "5411  Noakhali-3  1991   BNP          Salah Uddin Kamran  11378.0     22.23   \n",
       "5860  Kurigram-3  1991    AL  Md. Amjad Hossain Talukdar  20547.0     23.74   \n",
       "5896  Noakhali-1  1991   BNP       Zainul Abdin Farroque  21418.0     31.97   \n",
       "5927   Barisal-4  1991    AL             Mohiuddin Ahmed  22093.0     30.22   \n",
       "5961    Sylhet-4  1991    AL                 Imran Ahmad  23018.0     42.76   \n",
       "\n",
       "     winner  \n",
       "5411    yes  \n",
       "5860    yes  \n",
       "5896    yes  \n",
       "5927    yes  \n",
       "5961    yes  "
      ]
     },
     "execution_count": 8,
     "metadata": {},
     "output_type": "execute_result"
    }
   ],
   "source": [
    "# only take candidates from BNP and AL\n",
    "dfcwin = dfcwin[dfcwin.party.isin(mainp)]\n",
    "dfcwin.head()"
   ]
  },
  {
   "cell_type": "code",
   "execution_count": 9,
   "metadata": {},
   "outputs": [
    {
     "data": {
      "text/plain": [
       "(962, 7)"
      ]
     },
     "execution_count": 9,
     "metadata": {},
     "output_type": "execute_result"
    }
   ],
   "source": [
    "dfcwin.shape"
   ]
  },
  {
   "cell_type": "code",
   "execution_count": 10,
   "metadata": {},
   "outputs": [
    {
     "data": {
      "text/html": [
       "<div>\n",
       "<style scoped>\n",
       "    .dataframe tbody tr th:only-of-type {\n",
       "        vertical-align: middle;\n",
       "    }\n",
       "\n",
       "    .dataframe tbody tr th {\n",
       "        vertical-align: top;\n",
       "    }\n",
       "\n",
       "    .dataframe thead th {\n",
       "        text-align: right;\n",
       "    }\n",
       "</style>\n",
       "<table border=\"1\" class=\"dataframe\">\n",
       "  <thead>\n",
       "    <tr style=\"text-align: right;\">\n",
       "      <th></th>\n",
       "      <th>seat</th>\n",
       "      <th>year</th>\n",
       "      <th>turnout</th>\n",
       "      <th>turnout_pc</th>\n",
       "      <th>voters</th>\n",
       "    </tr>\n",
       "  </thead>\n",
       "  <tbody>\n",
       "    <tr>\n",
       "      <th>0</th>\n",
       "      <td>Panchagarh-1</td>\n",
       "      <td>2024</td>\n",
       "      <td>192579.0</td>\n",
       "      <td>44.08</td>\n",
       "      <td>436923.0</td>\n",
       "    </tr>\n",
       "    <tr>\n",
       "      <th>1</th>\n",
       "      <td>Panchagarh-1</td>\n",
       "      <td>2018</td>\n",
       "      <td>320597.0</td>\n",
       "      <td>84.54</td>\n",
       "      <td>379207.0</td>\n",
       "    </tr>\n",
       "    <tr>\n",
       "      <th>2</th>\n",
       "      <td>Panchagarh-1</td>\n",
       "      <td>2014</td>\n",
       "      <td>86046.0</td>\n",
       "      <td>26.16</td>\n",
       "      <td>328959.0</td>\n",
       "    </tr>\n",
       "    <tr>\n",
       "      <th>3</th>\n",
       "      <td>Panchagarh-1</td>\n",
       "      <td>2008</td>\n",
       "      <td>266812.0</td>\n",
       "      <td>91.70</td>\n",
       "      <td>291095.0</td>\n",
       "    </tr>\n",
       "    <tr>\n",
       "      <th>4</th>\n",
       "      <td>Panchagarh-1</td>\n",
       "      <td>2001</td>\n",
       "      <td>206827.0</td>\n",
       "      <td>86.15</td>\n",
       "      <td>240073.0</td>\n",
       "    </tr>\n",
       "  </tbody>\n",
       "</table>\n",
       "</div>"
      ],
      "text/plain": [
       "           seat  year   turnout  turnout_pc    voters\n",
       "0  Panchagarh-1  2024  192579.0       44.08  436923.0\n",
       "1  Panchagarh-1  2018  320597.0       84.54  379207.0\n",
       "2  Panchagarh-1  2014   86046.0       26.16  328959.0\n",
       "3  Panchagarh-1  2008  266812.0       91.70  291095.0\n",
       "4  Panchagarh-1  2001  206827.0       86.15  240073.0"
      ]
     },
     "execution_count": 10,
     "metadata": {},
     "output_type": "execute_result"
    }
   ],
   "source": [
    "dfs = pd.read_csv('data/seat_summary.csv')\n",
    "dfs.head()"
   ]
  },
  {
   "cell_type": "code",
   "execution_count": 13,
   "metadata": {},
   "outputs": [
    {
     "data": {
      "text/html": [
       "<div>\n",
       "<style scoped>\n",
       "    .dataframe tbody tr th:only-of-type {\n",
       "        vertical-align: middle;\n",
       "    }\n",
       "\n",
       "    .dataframe tbody tr th {\n",
       "        vertical-align: top;\n",
       "    }\n",
       "\n",
       "    .dataframe thead th {\n",
       "        text-align: right;\n",
       "    }\n",
       "</style>\n",
       "<table border=\"1\" class=\"dataframe\">\n",
       "  <thead>\n",
       "    <tr style=\"text-align: right;\">\n",
       "      <th></th>\n",
       "      <th>seat</th>\n",
       "      <th>year</th>\n",
       "      <th>party</th>\n",
       "      <th>turnout_pc</th>\n",
       "    </tr>\n",
       "  </thead>\n",
       "  <tbody>\n",
       "    <tr>\n",
       "      <th>0</th>\n",
       "      <td>Noakhali-3</td>\n",
       "      <td>1991</td>\n",
       "      <td>BNP</td>\n",
       "      <td>38.0</td>\n",
       "    </tr>\n",
       "    <tr>\n",
       "      <th>1</th>\n",
       "      <td>Kurigram-3</td>\n",
       "      <td>1991</td>\n",
       "      <td>AL</td>\n",
       "      <td>43.5</td>\n",
       "    </tr>\n",
       "    <tr>\n",
       "      <th>2</th>\n",
       "      <td>Noakhali-1</td>\n",
       "      <td>1991</td>\n",
       "      <td>BNP</td>\n",
       "      <td>33.2</td>\n",
       "    </tr>\n",
       "    <tr>\n",
       "      <th>3</th>\n",
       "      <td>Barisal-4</td>\n",
       "      <td>1991</td>\n",
       "      <td>AL</td>\n",
       "      <td>37.7</td>\n",
       "    </tr>\n",
       "    <tr>\n",
       "      <th>4</th>\n",
       "      <td>Sylhet-4</td>\n",
       "      <td>1991</td>\n",
       "      <td>AL</td>\n",
       "      <td>35.0</td>\n",
       "    </tr>\n",
       "    <tr>\n",
       "      <th>5</th>\n",
       "      <td>Barisal-3</td>\n",
       "      <td>1991</td>\n",
       "      <td>BNP</td>\n",
       "      <td>37.7</td>\n",
       "    </tr>\n",
       "    <tr>\n",
       "      <th>6</th>\n",
       "      <td>Sylhet-4</td>\n",
       "      <td>1996</td>\n",
       "      <td>BNP</td>\n",
       "      <td>61.9</td>\n",
       "    </tr>\n",
       "    <tr>\n",
       "      <th>7</th>\n",
       "      <td>Mymensingh-6</td>\n",
       "      <td>1991</td>\n",
       "      <td>BNP</td>\n",
       "      <td>43.0</td>\n",
       "    </tr>\n",
       "    <tr>\n",
       "      <th>8</th>\n",
       "      <td>Lakshmipur-1</td>\n",
       "      <td>1991</td>\n",
       "      <td>BNP</td>\n",
       "      <td>37.6</td>\n",
       "    </tr>\n",
       "    <tr>\n",
       "      <th>9</th>\n",
       "      <td>Comilla-11</td>\n",
       "      <td>1991</td>\n",
       "      <td>BNP</td>\n",
       "      <td>38.3</td>\n",
       "    </tr>\n",
       "  </tbody>\n",
       "</table>\n",
       "</div>"
      ],
      "text/plain": [
       "           seat  year party  turnout_pc\n",
       "0    Noakhali-3  1991   BNP        38.0\n",
       "1    Kurigram-3  1991    AL        43.5\n",
       "2    Noakhali-1  1991   BNP        33.2\n",
       "3     Barisal-4  1991    AL        37.7\n",
       "4      Sylhet-4  1991    AL        35.0\n",
       "5     Barisal-3  1991   BNP        37.7\n",
       "6      Sylhet-4  1996   BNP        61.9\n",
       "7  Mymensingh-6  1991   BNP        43.0\n",
       "8  Lakshmipur-1  1991   BNP        37.6\n",
       "9    Comilla-11  1991   BNP        38.3"
      ]
     },
     "execution_count": 13,
     "metadata": {},
     "output_type": "execute_result"
    }
   ],
   "source": [
    "# merge two datasets to get turnout % for specific seat and year\n",
    "df = pd.merge(dfcwin, dfs, on=['seat', 'year'], how='inner')[['seat', 'year', 'party', 'turnout_pc']]\n",
    "df.head(10)"
   ]
  },
  {
   "cell_type": "code",
   "execution_count": 14,
   "metadata": {},
   "outputs": [
    {
     "data": {
      "text/html": [
       "<div>\n",
       "<style scoped>\n",
       "    .dataframe tbody tr th:only-of-type {\n",
       "        vertical-align: middle;\n",
       "    }\n",
       "\n",
       "    .dataframe tbody tr th {\n",
       "        vertical-align: top;\n",
       "    }\n",
       "\n",
       "    .dataframe thead th {\n",
       "        text-align: right;\n",
       "    }\n",
       "</style>\n",
       "<table border=\"1\" class=\"dataframe\">\n",
       "  <thead>\n",
       "    <tr style=\"text-align: right;\">\n",
       "      <th></th>\n",
       "      <th>seat</th>\n",
       "      <th>year</th>\n",
       "      <th>party</th>\n",
       "      <th>turnout_pc</th>\n",
       "    </tr>\n",
       "  </thead>\n",
       "  <tbody>\n",
       "    <tr>\n",
       "      <th>819</th>\n",
       "      <td>Mymensingh-1</td>\n",
       "      <td>2008</td>\n",
       "      <td>AL</td>\n",
       "      <td>95.6</td>\n",
       "    </tr>\n",
       "    <tr>\n",
       "      <th>730</th>\n",
       "      <td>Rajshahi-5</td>\n",
       "      <td>2008</td>\n",
       "      <td>AL</td>\n",
       "      <td>94.6</td>\n",
       "    </tr>\n",
       "    <tr>\n",
       "      <th>844</th>\n",
       "      <td>Naogaon-2</td>\n",
       "      <td>2008</td>\n",
       "      <td>AL</td>\n",
       "      <td>94.4</td>\n",
       "    </tr>\n",
       "    <tr>\n",
       "      <th>738</th>\n",
       "      <td>Cox's Bazar-3</td>\n",
       "      <td>2008</td>\n",
       "      <td>BNP</td>\n",
       "      <td>94.4</td>\n",
       "    </tr>\n",
       "    <tr>\n",
       "      <th>705</th>\n",
       "      <td>Jhenaidah-3</td>\n",
       "      <td>2008</td>\n",
       "      <td>AL</td>\n",
       "      <td>94.2</td>\n",
       "    </tr>\n",
       "    <tr>\n",
       "      <th>586</th>\n",
       "      <td>Brahmanbaria-1</td>\n",
       "      <td>2008</td>\n",
       "      <td>AL</td>\n",
       "      <td>94.1</td>\n",
       "    </tr>\n",
       "    <tr>\n",
       "      <th>891</th>\n",
       "      <td>Naogaon-3</td>\n",
       "      <td>2008</td>\n",
       "      <td>AL</td>\n",
       "      <td>94.0</td>\n",
       "    </tr>\n",
       "    <tr>\n",
       "      <th>852</th>\n",
       "      <td>Jessore-2</td>\n",
       "      <td>2008</td>\n",
       "      <td>AL</td>\n",
       "      <td>93.7</td>\n",
       "    </tr>\n",
       "    <tr>\n",
       "      <th>746</th>\n",
       "      <td>Natore-3</td>\n",
       "      <td>2008</td>\n",
       "      <td>AL</td>\n",
       "      <td>93.5</td>\n",
       "    </tr>\n",
       "    <tr>\n",
       "      <th>712</th>\n",
       "      <td>Jessore-5</td>\n",
       "      <td>2008</td>\n",
       "      <td>AL</td>\n",
       "      <td>93.3</td>\n",
       "    </tr>\n",
       "  </tbody>\n",
       "</table>\n",
       "</div>"
      ],
      "text/plain": [
       "               seat  year party  turnout_pc\n",
       "819    Mymensingh-1  2008    AL        95.6\n",
       "730      Rajshahi-5  2008    AL        94.6\n",
       "844       Naogaon-2  2008    AL        94.4\n",
       "738   Cox's Bazar-3  2008   BNP        94.4\n",
       "705     Jhenaidah-3  2008    AL        94.2\n",
       "586  Brahmanbaria-1  2008    AL        94.1\n",
       "891       Naogaon-3  2008    AL        94.0\n",
       "852       Jessore-2  2008    AL        93.7\n",
       "746        Natore-3  2008    AL        93.5\n",
       "712       Jessore-5  2008    AL        93.3"
      ]
     },
     "execution_count": 14,
     "metadata": {},
     "output_type": "execute_result"
    }
   ],
   "source": [
    "df = df.sort_values(by=['turnout_pc'], ascending=False)\n",
    "df.head(10)"
   ]
  },
  {
   "cell_type": "code",
   "execution_count": 15,
   "metadata": {},
   "outputs": [],
   "source": [
    "df.to_csv('dataout/mainp_turnout_distn.csv', index=False)"
   ]
  },
  {
   "cell_type": "code",
   "execution_count": 20,
   "metadata": {},
   "outputs": [
    {
     "data": {
      "image/png": "[encoded data removed]",
      "text/plain": [
       "<Figure size 800x600 with 1 Axes>"
      ]
     },
     "metadata": {},
     "output_type": "display_data"
    }
   ],
   "source": [
    "# plot kernel density to visualize the distribution of turnout % of AL and BNP winning seats\n",
    "fig, ax = plt.subplots(figsize=(8, 6))\n",
    "sns.kdeplot(data=df, x=\"turnout_pc\", hue=\"party\", bw_adjust=4, cut=0, ax=ax)\n",
    "ax.set_title('BD general elections 1991-2008: distribution of turnout % of BNP and AL winning seats')\n",
    "ax.set_xlabel('turnout %')\n",
    "fig.savefig('fig/mainp_turnout_distn',bbox_inches='tight')"
   ]
  },
  {
   "cell_type": "code",
   "execution_count": 21,
   "metadata": {},
   "outputs": [
    {
     "data": {
      "image/png": "[encoded data removed]",
      "text/plain": [
       "<Figure size 800x600 with 1 Axes>"
      ]
     },
     "metadata": {},
     "output_type": "display_data"
    }
   ],
   "source": [
    "# plot distribution of turnout % of AL and BNP winning seats each year\n",
    "fig, ax = plt.subplots(figsize=(8, 6))\n",
    "sns.boxplot(data=df, x=\"year\", y=\"turnout_pc\", hue=\"party\", width=.5, ax=ax)\n",
    "ax.set_title('BD general elections 1991-2008: distribution of turnout % of BNP and AL winning seats by year')\n",
    "ax.set_ylabel('turnout %')\n",
    "fig.savefig('fig/mainp_turnout_year_distn',bbox_inches='tight')\n"
   ]
  },
  {
   "cell_type": "code",
   "execution_count": null,
   "metadata": {},
   "outputs": [],
   "source": []
  }
 ],
 "metadata": {
  "kernelspec": {
   "display_name": "Python 3",
   "language": "python",
   "name": "python3"
  },
  "language_info": {
   "codemirror_mode": {
    "name": "ipython",
    "version": 3
   },
   "file_extension": ".py",
   "mimetype": "text/x-python",
   "name": "python",
   "nbconvert_exporter": "python",
   "pygments_lexer": "ipython3",
   "version": "3.12.3"
  }
 },
 "nbformat": 4,
 "nbformat_minor": 2
}
